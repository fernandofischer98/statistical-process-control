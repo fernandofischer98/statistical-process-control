{
 "cells": [
  {
   "cell_type": "markdown",
   "id": "0d3596fe",
   "metadata": {},
   "source": [
    "# <center>Averge and Range Charts $(\\overline{X}$ and $R)$"
   ]
  },
  {
   "cell_type": "markdown",
   "id": "2c06fae4",
   "metadata": {},
   "source": [
    "The reason for using Control charts of any type is to monitor variation, in oder to prevent and/or explain failure, by keeping track of the status of statistical control. The higher the quality, the higher the certainty of any derived conclusion.\n",
    "\n",
    "The idea behind the mechanism is to have a way to visualize both within and between subgroup variation. A subgroup is a group of observations collected at very close positions in time. The variation within subgroups observations represents the piece to piece variation, or variation under normal circumstances. If the process is in statistical control, there shouldn't be variation of the variation within subgroups (or between subgroups), therefore the response probability distribution should be the same between subgroups. The control Chart will make noticeable subgroups of observations which seem to belong to a different distribution, due to there outlier mean or range. The purpose of Using range as a variable, is because a measument of spread is necessary to compare distributions. Sometimes it is easy to denote an observation as an outlier, but for this text let it be that an observation is not an outlier if it's distant from the target, it is only an outlier if it belongs to a different probability distribution.\n",
    "\n",
    "\n",
    "An Average and Range Chart is taken in the following sequence:\n",
    "\n",
    "-Select Size, frequency and number of subgroups\n",
    "\n",
    "-On two sepearate graphs, plot the mean and range of each subgroup of data vs time."
   ]
  },
  {
   "cell_type": "markdown",
   "id": "9a913560",
   "metadata": {},
   "source": [
    "## Select Size, Frequency and Number of Observations"
   ]
  },
  {
   "cell_type": "markdown",
   "id": "7304421e",
   "metadata": {},
   "source": [
    "#### -Size\n",
    "\n",
    "The size must allow for piece to piece variation, so ideally but imposibly the observations within a subgroup would be taken on a sigle point in time, but in reality no variation would be present. If a sample is taken, generating more than one reading from this sample is not allowed (unless an average, representing a single sample is generated), because there is no such thing as within sample variation. The reason why a single point in time representation is the theoretical ideal, is because variation representative of a part generated under the same circumstance is desired. But wouldn't the same exact circumstance generate the same exact reading?, not in a probabilistic context, so let's define \"same circumstances\" for a probabilistic context.\n",
    "\n",
    "A difference in output is a f(variables), these variables themselves are a f(sub-variables). For example, the time it takes to pump10 gallons in to a tanksis a f(flow rate), the flow rate is a f(voltage, temperature, ...). We can keep on going, because temperature is a f(radiation, convection, conduction), and so forth. Instead of building the perfect formula, which is impossible, one decides to say that the values from a variable belong to a probability distribution (even though we set voltage at 110, it istn perfect). Since we dont know the radiation from the sun, which makes it impossible to know the temperature of the water, and finally to know the exact time it takes to pump the 10 gallons. But for all intermediate variables, (temperature, flow rate, etc.)we can assume they come from a distribution and add up to a final output that also has a distribution.\n",
    "\n",
    "So same circumstances, means that all variables of the output function are coming from a common unknown distribution that we think we kind of know. A special cause just lets us know that we actually did not have \"control\" over the distribution and changes must be made."
   ]
  },
  {
   "cell_type": "markdown",
   "id": "baefbfbe",
   "metadata": {},
   "source": [
    "Since collecting observations under same circumstances at a single point in time is not possible, subgroup observations are consecutive observations in a short range of time. So say we call a subgroup the observations taken of 4-5 consecutive pH reading, or diameters, etc... Later the consequences of different values for size are put to a test and an in depth analysis of consequences is done."
   ]
  },
  {
   "cell_type": "markdown",
   "id": "f974f4a4",
   "metadata": {},
   "source": [
    "#### -Subgroup Frequency\n",
    "\n",
    "The subgroup frequency must allow for change to be made noticeable. For example, if the lot number is something that can cause change in extents that one suspects could be undesireable, and lot of raw material changes weekly, it wouldnt be appropriate to take monthly observations. If observations would be taken weekly for this case, it may be difficult to pinpoint the source of varialibity, especially if many variables can ahave a meaningful impact on the output, so ideally the more frequent the better, but the more costly. So what is commonly done, is to start off taking observations very frequently, and slowly lowering the frquency. After enough data is aquired one can initiate inference of variability sources, if inference is difficult, then frequency must be increased. For example if source A and B cause variation weekly, then one data point would be an outlier, but either of both sources could be the cause (of course the interaction as well could be). Difficulty can arise if the maximum frequency is not enough."
   ]
  },
  {
   "cell_type": "markdown",
   "id": "923659dc",
   "metadata": {},
   "source": [
    "#### -Number of subgroups"
   ]
  },
  {
   "cell_type": "markdown",
   "id": "78479162",
   "metadata": {},
   "source": [
    "Enough subgroups should be present to allow the major sources of variability to appear. As a general rule of thumb, 25 subroups containing 100 total observations should be enough to asess stability, location and spread. This wil be put to test later on in this notebook "
   ]
  },
  {
   "cell_type": "markdown",
   "id": "b4de2e22",
   "metadata": {},
   "source": [
    "## Calculation of $\\overline{X}$ and $R$"
   ]
  },
  {
   "cell_type": "markdown",
   "id": "d749d043",
   "metadata": {},
   "source": [
    "For each subgroup:\n",
    "\n",
    "$$ \\overline{X}=\\frac{X_{1}+X_{2}+...+X_{n}}{n} $$"
   ]
  },
  {
   "cell_type": "markdown",
   "id": "4ab6df82",
   "metadata": {},
   "source": [
    "$$ R=X_{highest}-X_{lowest} $$"
   ]
  },
  {
   "cell_type": "markdown",
   "id": "91cc79bb",
   "metadata": {},
   "source": [
    "## Calculate Control Limits\n",
    "\n",
    "https://andrewmilivojevich.com/xbar-and-r-chart/ has a good post on estimating the constants needed to predict control limits.\n",
    "\n",
    "First the average of the averages and average of the ranges is calculated.\n",
    "$$ \\overline{R}=\\frac{R_{1}+R_{2}+...+R_{k}}{k} $$\n",
    "\n",
    "$$ \\overline{\\overline{X}}=\\frac{\\overline{X_{1}}+\\overline{X_{2}}+...+\\overline{X_{k}}}{k} $$\n",
    "\n",
    "\n",
    "$k$ is the number of subgroups used to determine the grand average and average range"
   ]
  },
  {
   "cell_type": "markdown",
   "id": "2b8e4806",
   "metadata": {},
   "source": [
    "Then the limits can be calculated as follows:\n",
    "\n",
    "$$UCL_{R}=D_{4}\\overline{R}$$\n",
    "\n",
    "$$LCL_{R}=D_{3}\\overline{R}$$\n",
    "\n",
    "$$UCL_{\\overline{X}}=\\overline{\\overline{X}}+A_{2}\\overline{R}$$\n",
    "\n",
    "$$LCL_{\\overline{X}}=\\overline{\\overline{X}}-A_{2}\\overline{R}$$"
   ]
  },
  {
   "cell_type": "markdown",
   "id": "3db331c4",
   "metadata": {},
   "source": [
    "The Upper and lower control limits for both range and averages are simply three standard deviations away from the grand average or average Range.\n",
    "\n",
    "So if this is the case, then why cant we just calculate the standard deviation of all the mean of subgroups we have and add the limits.\n",
    "\n",
    "The main basis is that there is a relationship between the range and the standard deviation (and we use Range instead of stdev becuase it's sometimes easier to calculate). So if a higher range is evidenced, then a higher standard deviation is assumed. Whats interesting is that this Relationship, $\\sigma_{individual samples}=\\frac{\\overline{R}}{d2}$, or the value of $d_{2}$ is tabulated for different sample sizes when the individual samples follow a normal distribution with a mean of 0 and a sd of 1. "
   ]
  },
  {
   "cell_type": "markdown",
   "id": "e7cb4459",
   "metadata": {},
   "source": [
    "### Control limits for Averages"
   ]
  },
  {
   "cell_type": "markdown",
   "id": "9e45be1b",
   "metadata": {},
   "source": [
    "So the estimated standard deviation of individual samples is:\n",
    "\n",
    "$$\\sigma_{individual samples}=\\frac{\\overline{R}}{d_{2}}$$\n",
    "\n",
    "The larger the samples per subgroup the smaller the standard deviation. Smaller by a factor of $\\sqrt{n}$. Therefore the estimated standard deviation of the averages of each subgroup is:\n",
    "\n",
    "$$\\sigma_{subgroup average}=\\frac{\\sigma_{individual samples}}{\\sqrt{n}}$$\n",
    "\n",
    "\n"
   ]
  },
  {
   "cell_type": "markdown",
   "id": "a79ff09d",
   "metadata": {},
   "source": [
    "So the control limits for averages are:\n",
    "\n",
    "$$CL_{\\overline{X}}=\\overline{\\overline{X}}\\underline{+}3\\sigma_{subgroupaverage}$$\n",
    "\n",
    "If one were to confuse the subgroup average with the individual sample average, the limit would be misscalculated, due to the fact that the standard deviation deceases when the sample size increases. So a if the wrong standard deviation was used, the limit would be drawn further away than the 3 stdev.\n",
    "\n",
    "So the value to be added to the mean for the upper limit is:\n",
    "\n",
    "$$CL_{\\overline{X}}=3\\frac{\\frac{\\overline{R}}{d2}}{\\sqrt{n}}=3\\frac{1}{d_{2}\\sqrt{n}}\\overline{R}$$\n",
    "\n"
   ]
  },
  {
   "cell_type": "markdown",
   "id": "1c0720de",
   "metadata": {},
   "source": [
    "And hence:\n",
    "\n",
    "$$A_{2}=\\frac{3}{d_{2}\\sqrt{n}}$$\n"
   ]
  },
  {
   "cell_type": "markdown",
   "id": "7860b428",
   "metadata": {},
   "source": [
    "#### The $d_{2}$ value"
   ]
  },
  {
   "cell_type": "markdown",
   "id": "073c2569",
   "metadata": {},
   "source": [
    "These are the means of the distribution of ranges. \n",
    "As mentioned earlier the $d_{2}$ value helps us calculate the standard deviation from the mean range. For a standard deviation of 1 on a normal distribution the values of $d_{2}$ are known. Hence with samples normally distributed with any mean and any standard dev $$\\frac{\\sigma_{individualsamplesstdev=1}}{\\sigma_{individualsamplesstdev=anything}}\\propto \\frac{\\overline{R_{stdev=1}}}{\\overline{R_{stdev=anything}}}$$"
   ]
  },
  {
   "cell_type": "markdown",
   "id": "7eb20862",
   "metadata": {},
   "source": [
    "### Calculate control limits for Ranges "
   ]
  },
  {
   "cell_type": "markdown",
   "id": "fc535c71",
   "metadata": {},
   "source": [
    "There is also a relationship between the stdev of the Range and stdev of the individual samples.\n",
    "\n",
    "$$CL_{R}=\\overline{R} \\underline{+} 3 \\sigma_{\\overline{R}}$$\n",
    "\n",
    "The stdev refers to the probability distribution of the Range. Meaning for a given sample size, there is a distribution of the probability of Range, i.e if it is less likely to get a range that differs from the mean of the range. There is a relationship between the stdev of the range and the stdev of the individual samples, of course, this depending on the sample size. So there is a proportionality between range stdev and individual samples stdev, by a factor of $d_{3}$\n",
    "\n",
    "$$\\sigma_{R}=d_{3}\\sigma_{individualsamples}$$\n",
    "And\n",
    "$$\\sigma_{R}=d_{3}\\frac{\\overline{R}}{d_{2}}$$"
   ]
  },
  {
   "cell_type": "markdown",
   "id": "acedca43",
   "metadata": {},
   "source": [
    "So\n",
    "\n",
    "$$CL_{R}=\\overline{R} \\underline{+} 3 d_{3}\\frac{\\overline{R}}{d_{2}}$$"
   ]
  },
  {
   "cell_type": "markdown",
   "id": "3eaf1022",
   "metadata": {},
   "source": [
    "\n",
    "Simplifying\n",
    "\n",
    "$$CL_{R}=\\overline{R}(1 \\underline{+} 3 \\frac{d_{3}}{d_{2}})$$"
   ]
  },
  {
   "cell_type": "markdown",
   "id": "183743d1",
   "metadata": {},
   "source": [
    "And since $d_{2}$ and $d_{3}$ are tabulated, the whole expression is transformed for simplicity of calculation to $$D_{4}=(1+3\\frac{d_{3}}{d_{2}})$$\n",
    "and\n",
    "$$D_{3}=(1-3\\frac{d_{3}}{d_{2}})$$"
   ]
  },
  {
   "cell_type": "markdown",
   "id": "07a1f193",
   "metadata": {},
   "source": [
    "We will create a function that will generate a frequency or histogram chart. Based on the number of channels one assigns, the channel ranges will vary."
   ]
  },
  {
   "cell_type": "code",
   "execution_count": 292,
   "id": "d3c9297e",
   "metadata": {},
   "outputs": [],
   "source": [
    "import random\n",
    "import numpy as np\n",
    "import matplotlib.pyplot as plt\n",
    "import math\n",
    "import statistics\n",
    "import pandas as pd"
   ]
  },
  {
   "cell_type": "code",
   "execution_count": 293,
   "id": "6190fd02",
   "metadata": {},
   "outputs": [],
   "source": [
    "def histogram(values, number_of_channels, ylab, xlab, graph=True):\n",
    "    \n",
    "        #list of zeros that will contain the count for each channel\n",
    "        \n",
    "        freq_list=np.zeros((number_of_channels+1))\n",
    "        \n",
    "        #range of values for each channel\n",
    "        \n",
    "        ma=max(values)\n",
    "        mi=min(values)\n",
    "        \n",
    "        r=float((ma-mi)/number_of_channels)\n",
    "        \n",
    "        #list denoting channel limits\n",
    "        \n",
    "        channel_limits=[]\n",
    "        channel_limits.append(mi)\n",
    "        \n",
    "        \n",
    "        for x in range(number_of_channels):\n",
    "            channel_limits.append((channel_limits[x])+(r))\n",
    "\n",
    "        \n",
    "        #loop though all values and assign to channel\n",
    "        \n",
    "                    \n",
    "        for val in values:\n",
    "            \n",
    "            for x in range(len(channel_limits)-1):\n",
    "                \n",
    "                if val>=channel_limits[x] and val<=channel_limits[x+1]:\n",
    "                    \n",
    "                    freq_list[x]+=1\n",
    "                    \n",
    "                    \n",
    "                    pass\n",
    "                pass\n",
    "\n",
    "        freq_list=list(freq_list)\n",
    "        \n",
    "        del(freq_list[-1])\n",
    "        \n",
    "        \n",
    "        #for the bar plot we need the middle value between channel limits\n",
    "        \n",
    "        channel_limits_middles=[]\n",
    "        \n",
    "        for x in range(len(channel_limits)-1):\n",
    "            \n",
    "            channel_limits_middles.append((channel_limits[x]+channel_limits[x+1])/2)\n",
    "            \n",
    "        if graph==True:\n",
    "        \n",
    "            m=statistics.mean(values)\n",
    "            sd=statistics.stdev(values)\n",
    "        \n",
    "            plt.bar(channel_limits_middles, freq_list,width=r, edgecolor='black', )\n",
    "            plt.xlabel(xlab)\n",
    "            plt.ylabel(ylab)\n",
    "            plt.bar([(m-sd), m+sd], [max(freq_list),max(freq_list)], width=sd/25, label='1sd')\n",
    "            plt.bar([(m-sd*2), m+sd*2], [max(freq_list),max(freq_list)], width=sd/25, label='2sd')\n",
    "            plt.bar([(m-sd*3), m+sd*3], [max(freq_list),max(freq_list)], width=sd/25, label='3sd')\n",
    "            plt.minorticks_on()\n",
    "            plt.legend()\n",
    "            plt.rcParams[\"figure.figsize\"] = (12,8)\n",
    "            plt.show()\n",
    "            #plt.grid(b=True, which='major', color='b', linestyle='-')\n",
    "            #plt.grid(b=True, which='minor', color='r', linestyle='--')\n",
    "            \n",
    "        else:\n",
    "            \n",
    "            return channel_limits_middles, freq_list\n",
    "    "
   ]
  },
  {
   "cell_type": "markdown",
   "id": "8b480adf",
   "metadata": {},
   "source": [
    "#### $d_{2}$, $d_{3}$, $D_{4}$, and $D_{3}$ for a sample size of 2\n",
    "\n",
    "First lets generate 2 sets of normally distributed random numbers, with a stdev of 1 and a mean of 0. The mean of each row is appended to a list."
   ]
  },
  {
   "cell_type": "code",
   "execution_count": 162,
   "id": "d27679d9",
   "metadata": {},
   "outputs": [],
   "source": [
    "#Generate two sets of 100000 random normally distributed values. The stdev will be 1 and the mean 0.\n",
    "\n",
    "np.random.seed(2)\n",
    "set1=np.random.normal(0,1,100000)\n",
    "set2=np.random.normal(0,1,100000)\n",
    "\n",
    "#calculate the mean for each row of values\n",
    "\n",
    "Ranges=[]\n",
    "\n",
    "for x in range(100000):\n",
    "    Ranges.append(max(set1[x], set2[x])-min(set1[x], set2[x]))\n",
    "    \n",
    "\n",
    "    "
   ]
  },
  {
   "cell_type": "markdown",
   "id": "acfb8ce9",
   "metadata": {},
   "source": [
    "Plot the mean on a histogram"
   ]
  },
  {
   "cell_type": "code",
   "execution_count": 163,
   "id": "7b8090b0",
   "metadata": {},
   "outputs": [
    {
     "data": {
      "image/png": "[encoded data removed]",
      "text/plain": [
       "<Figure size 864x576 with 1 Axes>"
      ]
     },
     "metadata": {
      "needs_background": "light"
     },
     "output_type": "display_data"
    }
   ],
   "source": [
    "histogram(values=Ranges, number_of_channels=100, ylab='Frequency', xlab='Range')"
   ]
  },
  {
   "cell_type": "markdown",
   "id": "39ac19b1",
   "metadata": {},
   "source": [
    "The $d_{2}$ value is the mean of this this distribution."
   ]
  },
  {
   "cell_type": "code",
   "execution_count": 300,
   "id": "ac9b0776",
   "metadata": {},
   "outputs": [
    {
     "data": {
      "text/plain": [
       "1.1276228588179977"
      ]
     },
     "execution_count": 300,
     "metadata": {},
     "output_type": "execute_result"
    }
   ],
   "source": [
    "statistics.mean(Ranges)"
   ]
  },
  {
   "cell_type": "markdown",
   "id": "c08f1380",
   "metadata": {},
   "source": [
    "The $d_{3}$ value is the stdev of the distribution"
   ]
  },
  {
   "cell_type": "code",
   "execution_count": 301,
   "id": "7bd45d7d",
   "metadata": {},
   "outputs": [
    {
     "data": {
      "text/plain": [
       "0.8536584106031959"
      ]
     },
     "execution_count": 301,
     "metadata": {},
     "output_type": "execute_result"
    }
   ],
   "source": [
    "statistics.stdev(Ranges)"
   ]
  },
  {
   "cell_type": "markdown",
   "id": "d25142c9",
   "metadata": {},
   "source": [
    "The $D_{4}$ value is the the computation $(1+3\\frac{d_{3}}{d_{2}})$"
   ]
  },
  {
   "cell_type": "code",
   "execution_count": 302,
   "id": "6cf2edab",
   "metadata": {},
   "outputs": [
    {
     "data": {
      "text/plain": [
       "3.2711274534590986"
      ]
     },
     "execution_count": 302,
     "metadata": {},
     "output_type": "execute_result"
    }
   ],
   "source": [
    "1+3*(statistics.stdev(Ranges)/statistics.mean(Ranges))"
   ]
  },
  {
   "cell_type": "markdown",
   "id": "3324c5ad",
   "metadata": {},
   "source": [
    "The $D_{3}$ value is the the computation $(1-3\\frac{d_{3}}{d_{2}})$"
   ]
  },
  {
   "cell_type": "code",
   "execution_count": 304,
   "id": "c707196d",
   "metadata": {},
   "outputs": [
    {
     "data": {
      "text/plain": [
       "-1.2711274534590986"
      ]
     },
     "execution_count": 304,
     "metadata": {},
     "output_type": "execute_result"
    }
   ],
   "source": [
    "1-3*(statistics.stdev(Ranges)/statistics.mean(Ranges))"
   ]
  },
  {
   "cell_type": "markdown",
   "id": "c8e6865b",
   "metadata": {},
   "source": [
    "Notice how the lower boudary would be approx: \n",
    "\n",
    "$$CL_{R}=\\overline{R}(-1.271)$$\n",
    "\n",
    "And therefore, with a sample size of 2, in tables no $D_{3}$ value is given"
   ]
  },
  {
   "cell_type": "markdown",
   "id": "1c01caa4",
   "metadata": {},
   "source": [
    "Lets generate the full table. Ranges will now be a list of lists, where each sublist contains the ranges calculated with different sample sizes from 1 to 10."
   ]
  },
  {
   "cell_type": "code",
   "execution_count": 284,
   "id": "8810b32f",
   "metadata": {},
   "outputs": [],
   "source": [
    "#Generate ten sets of 200000 random normally distributed values. The stdev will be 1 and the mean 0. \n",
    "\n",
    "np.random.seed(3)\n",
    "set=[]\n",
    "for x in range(10):\n",
    "    set.append(np.random.normal(0,1,200000))\n",
    "    \n",
    "#\n",
    "Range=[]\n",
    "\n",
    "for sample_size in range(1,11):\n",
    "    \n",
    "    lists_in_consideration=[] #each row contains values from which each individual range will be computed\n",
    "    \n",
    "    for x in range(sample_size):\n",
    "        lists_in_consideration.append(set[x])\n",
    "        \n",
    "        \n",
    "    #for each column, scan though rows finding max and min values\n",
    "    \n",
    "    ma=-100000\n",
    "    mi=100000\n",
    "    \n",
    "    range_sublist=[]\n",
    "    \n",
    "    for col in range(len(set[0])):\n",
    "        for row in range(len(lists_in_consideration)):\n",
    "            \n",
    "            if lists_in_consideration[row][col]>ma:\n",
    "                ma=lists_in_consideration[row][col]\n",
    "                \n",
    "            if lists_in_consideration[row][col]<mi:\n",
    "                mi=lists_in_consideration[row][col]\n",
    "                \n",
    "        range_sublist.append(ma-mi)\n",
    "        \n",
    "        ma=-100000\n",
    "        mi=100000\n",
    "        \n",
    "    Range.append(range_sublist)\n",
    "            \n",
    "        \n",
    "\n",
    "            \n",
    "        \n",
    "    "
   ]
  },
  {
   "cell_type": "markdown",
   "id": "314e76e4",
   "metadata": {},
   "source": [
    "Plot a density curve for different sample sizes"
   ]
  },
  {
   "cell_type": "code",
   "execution_count": 285,
   "id": "eda3b63d",
   "metadata": {
    "scrolled": false
   },
   "outputs": [
    {
     "name": "stdout",
     "output_type": "stream",
     "text": [
      "sample size: 2\n"
     ]
    },
    {
     "data": {
      "image/png": "[encoded data removed]",
      "text/plain": [
       "<Figure size 864x576 with 1 Axes>"
      ]
     },
     "metadata": {
      "needs_background": "light"
     },
     "output_type": "display_data"
    },
    {
     "name": "stdout",
     "output_type": "stream",
     "text": [
      "sample size: 3\n"
     ]
    },
    {
     "data": {
      "image/png": "[encoded data removed]",
      "text/plain": [
       "<Figure size 864x576 with 1 Axes>"
      ]
     },
     "metadata": {
      "needs_background": "light"
     },
     "output_type": "display_data"
    },
    {
     "name": "stdout",
     "output_type": "stream",
     "text": [
      "sample size: 5\n"
     ]
    },
    {
     "data": {
      "image/png": "[encoded data removed]",
      "text/plain": [
       "<Figure size 864x576 with 1 Axes>"
      ]
     },
     "metadata": {
      "needs_background": "light"
     },
     "output_type": "display_data"
    }
   ],
   "source": [
    "print('sample size: 2')\n",
    "histogram(values=Range[1], number_of_channels=100, ylab='Frequency', xlab='Range')\n",
    "print('sample size: 3')\n",
    "histogram(values=Range[2], number_of_channels=100, ylab='Frequency', xlab='Range')\n",
    "print('sample size: 5')\n",
    "histogram(values=Range[4], number_of_channels=100, ylab='Frequency', xlab='Range')"
   ]
  },
  {
   "cell_type": "markdown",
   "id": "0bce542e",
   "metadata": {},
   "source": [
    "It is possible to notice how the curve starts to look more and more like a normal distribution. \n",
    "\n",
    "#### Calculating d2 values for sample size of 2 to 10"
   ]
  },
  {
   "cell_type": "code",
   "execution_count": 295,
   "id": "70d2cb6a",
   "metadata": {},
   "outputs": [],
   "source": [
    "Range_means=[statistics.mean(values) for values in Range]\n",
    "Range_stdev=[statistics.stdev(values) for values in Range]"
   ]
  },
  {
   "cell_type": "code",
   "execution_count": 343,
   "id": "bb443d58",
   "metadata": {},
   "outputs": [],
   "source": [
    "Range_D4=['na']\n",
    "Range_D3=['na']\n",
    "Range_A2=['na']\n",
    "for x in range(1,len(Range_means)):\n",
    "\n",
    "    Range_D4.append(1+3*(Range_stdev[x]/Range_means[x]))\n",
    "    Range_D3.append(1-3*(Range_stdev[x]/Range_means[x]))\n",
    "    Range_A2.append(3/(Range_means[x]*math.sqrt(x+1)))\n",
    "    "
   ]
  },
  {
   "cell_type": "code",
   "execution_count": 344,
   "id": "d3225fdd",
   "metadata": {},
   "outputs": [],
   "source": [
    "d=pd.DataFrame({'$d_{2}$':Range_means, '$d_{3}$':Range_stdev, '$D_{4}$': Range_D4, '$D_3$': Range_D3, '$A_{2}$': Range_A2})\n",
    "d.index=np.linspace(1,10,10)"
   ]
  },
  {
   "cell_type": "code",
   "execution_count": 345,
   "id": "03c837c4",
   "metadata": {},
   "outputs": [
    {
     "data": {
      "text/html": [
       "<div>\n",
       "<style scoped>\n",
       "    .dataframe tbody tr th:only-of-type {\n",
       "        vertical-align: middle;\n",
       "    }\n",
       "\n",
       "    .dataframe tbody tr th {\n",
       "        vertical-align: top;\n",
       "    }\n",
       "\n",
       "    .dataframe thead th {\n",
       "        text-align: right;\n",
       "    }\n",
       "</style>\n",
       "<table border=\"1\" class=\"dataframe\">\n",
       "  <thead>\n",
       "    <tr style=\"text-align: right;\">\n",
       "      <th></th>\n",
       "      <th>$d_{2}$</th>\n",
       "      <th>$d_{3}$</th>\n",
       "      <th>$D_{4}$</th>\n",
       "      <th>$D_3$</th>\n",
       "      <th>$A_{2}$</th>\n",
       "    </tr>\n",
       "  </thead>\n",
       "  <tbody>\n",
       "    <tr>\n",
       "      <th>1.0</th>\n",
       "      <td>0.000000</td>\n",
       "      <td>0.000000</td>\n",
       "      <td>na</td>\n",
       "      <td>na</td>\n",
       "      <td>na</td>\n",
       "    </tr>\n",
       "    <tr>\n",
       "      <th>2.0</th>\n",
       "      <td>1.126715</td>\n",
       "      <td>0.851319</td>\n",
       "      <td>3.266728</td>\n",
       "      <td>-1.266728</td>\n",
       "      <td>1.882748</td>\n",
       "    </tr>\n",
       "    <tr>\n",
       "      <th>3.0</th>\n",
       "      <td>1.690627</td>\n",
       "      <td>0.887052</td>\n",
       "      <td>2.574065</td>\n",
       "      <td>-0.574065</td>\n",
       "      <td>1.024502</td>\n",
       "    </tr>\n",
       "    <tr>\n",
       "      <th>4.0</th>\n",
       "      <td>2.057254</td>\n",
       "      <td>0.877954</td>\n",
       "      <td>2.28028</td>\n",
       "      <td>-0.28028</td>\n",
       "      <td>0.729127</td>\n",
       "    </tr>\n",
       "    <tr>\n",
       "      <th>5.0</th>\n",
       "      <td>2.321297</td>\n",
       "      <td>0.862154</td>\n",
       "      <td>2.114232</td>\n",
       "      <td>-0.114232</td>\n",
       "      <td>0.57797</td>\n",
       "    </tr>\n",
       "    <tr>\n",
       "      <th>6.0</th>\n",
       "      <td>2.530687</td>\n",
       "      <td>0.847102</td>\n",
       "      <td>2.004196</td>\n",
       "      <td>-0.004196</td>\n",
       "      <td>0.483957</td>\n",
       "    </tr>\n",
       "    <tr>\n",
       "      <th>7.0</th>\n",
       "      <td>2.700370</td>\n",
       "      <td>0.833012</td>\n",
       "      <td>1.925442</td>\n",
       "      <td>0.074558</td>\n",
       "      <td>0.419903</td>\n",
       "    </tr>\n",
       "    <tr>\n",
       "      <th>8.0</th>\n",
       "      <td>2.843479</td>\n",
       "      <td>0.820790</td>\n",
       "      <td>1.865971</td>\n",
       "      <td>0.134029</td>\n",
       "      <td>0.373015</td>\n",
       "    </tr>\n",
       "    <tr>\n",
       "      <th>9.0</th>\n",
       "      <td>2.965831</td>\n",
       "      <td>0.808842</td>\n",
       "      <td>1.81816</td>\n",
       "      <td>0.18184</td>\n",
       "      <td>0.337174</td>\n",
       "    </tr>\n",
       "    <tr>\n",
       "      <th>10.0</th>\n",
       "      <td>3.075319</td>\n",
       "      <td>0.796727</td>\n",
       "      <td>1.777214</td>\n",
       "      <td>0.222786</td>\n",
       "      <td>0.308483</td>\n",
       "    </tr>\n",
       "  </tbody>\n",
       "</table>\n",
       "</div>"
      ],
      "text/plain": [
       "       $d_{2}$   $d_{3}$   $D_{4}$     $D_3$   $A_{2}$\n",
       "1.0   0.000000  0.000000        na        na        na\n",
       "2.0   1.126715  0.851319  3.266728 -1.266728  1.882748\n",
       "3.0   1.690627  0.887052  2.574065 -0.574065  1.024502\n",
       "4.0   2.057254  0.877954   2.28028  -0.28028  0.729127\n",
       "5.0   2.321297  0.862154  2.114232 -0.114232   0.57797\n",
       "6.0   2.530687  0.847102  2.004196 -0.004196  0.483957\n",
       "7.0   2.700370  0.833012  1.925442  0.074558  0.419903\n",
       "8.0   2.843479  0.820790  1.865971  0.134029  0.373015\n",
       "9.0   2.965831  0.808842   1.81816   0.18184  0.337174\n",
       "10.0  3.075319  0.796727  1.777214  0.222786  0.308483"
      ]
     },
     "execution_count": 345,
     "metadata": {},
     "output_type": "execute_result"
    }
   ],
   "source": [
    "d"
   ]
  },
  {
   "cell_type": "markdown",
   "id": "196a1509",
   "metadata": {},
   "source": [
    "Save the dataframe to access from other notebooks"
   ]
  },
  {
   "cell_type": "code",
   "execution_count": 363,
   "id": "d11d1b11",
   "metadata": {},
   "outputs": [],
   "source": [
    "d.to_pickle('X and R Charts')"
   ]
  },
  {
   "cell_type": "markdown",
   "id": "1779b837",
   "metadata": {},
   "source": [
    "As can be seen, values are approximately the same as those obtainable in tables."
   ]
  }
 ],
 "metadata": {
  "kernelspec": {
   "display_name": "Python 3",
   "language": "python",
   "name": "python3"
  },
  "language_info": {
   "codemirror_mode": {
    "name": "ipython",
    "version": 3
   },
   "file_extension": ".py",
   "mimetype": "text/x-python",
   "name": "python",
   "nbconvert_exporter": "python",
   "pygments_lexer": "ipython3",
   "version": "3.8.8"
  }
 },
 "nbformat": 4,
 "nbformat_minor": 5
}
